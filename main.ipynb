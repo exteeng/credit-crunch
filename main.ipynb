{
 "cells": [
  {
   "cell_type": "markdown",
   "id": "e4909072-8950-49c8-834e-647efb499272",
   "metadata": {},
   "source": [
    "# Credit Crunch\n",
    "\n",
    "Create the following charts to visualize the data:\n",
    "\n",
    "1. Bar chart: Compare transaction amount totals for all accounts.\n",
    "1. Bar chart: Compare transaction amount totals by year for all accounts.\n",
    "\n",
    "You may find a plot chart useful for analyzing the data or visiualizing an interesting pattern!"
   ]
  },
  {
   "cell_type": "code",
   "execution_count": 1,
   "id": "abda196c-dc17-4b6a-a7e5-0a07089e3ac9",
   "metadata": {},
   "outputs": [],
   "source": [
    "import json\n",
    "from pathlib import Path\n",
    "from matplotlib import pyplot as plt\n",
    "\n"
   ]
  },
  {
   "cell_type": "markdown",
   "id": "94def99e-c4a3-40db-8a7b-49ad1ace02a9",
   "metadata": {},
   "source": [
    "# Fraud Investigation Report\n",
    "\n",
    "Your report findings and transactions table should go here.\n"
   ]
  },
  {
   "cell_type": "code",
   "execution_count": null,
   "id": "be95f10f-c3a6-4a6b-8ee9-88516ee0da3b",
   "metadata": {},
   "outputs": [],
   "source": []
  }
 ],
 "metadata": {
  "kernelspec": {
   "display_name": "Python 3 (ipykernel)",
   "language": "python",
   "name": "python3"
  },
  "language_info": {
   "codemirror_mode": {
    "name": "ipython",
    "version": 3
   },
   "file_extension": ".py",
   "mimetype": "text/x-python",
   "name": "python",
   "nbconvert_exporter": "python",
   "pygments_lexer": "ipython3",
   "version": "3.10.12"
  }
 },
 "nbformat": 4,
 "nbformat_minor": 5
}
